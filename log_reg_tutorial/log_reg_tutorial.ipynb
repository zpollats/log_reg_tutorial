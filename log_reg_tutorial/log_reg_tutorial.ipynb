{
 "cells": [
  {
   "cell_type": "code",
   "execution_count": 1,
   "metadata": {},
   "outputs": [],
   "source": [
    "# Import relevant libraries and packages\n",
    "\n",
    "# Import visualization libraries and pandas/numpy to manipulate our data\n",
    "import numpy as np\n",
    "import pandas as pd\n",
    "import matplotlib.pyplot as plt\n",
    "\n",
    "# For logistic regression modeling steps\n",
    "from sklearn.dummy import DummyClassifier\n",
    "from sklearn.model_selection import train_test_split\n",
    "from sklearn.preprocessing import normalize, PolynomialFeatures\n",
    "from sklearn.linear_model import LogisticRegression\n",
    "\n",
    "# Libraries for classification metrics\n",
    "from sklearn.metrics import confusion_matrix, plot_confusion_matrix,\\\n",
    "    recall_score, log_loss, classification_report"
   ]
  },
  {
   "cell_type": "markdown",
   "metadata": {},
   "source": [
    "We will be using a dataset from UCI's Machine Learning Repository that tracked survival rates of patients who underwent an operation for breast cancer at the University of Chicago's Billings Hospital between 1958 and 1970. The dataset includes the age at the time of the operation, the year of the operation (year - 1900), the number of positive axillary nodes (lymph node in the armpit area in which cancer has spread), and whether or not the patient lived more than 5 years post operation. "
   ]
  },
  {
   "cell_type": "code",
   "execution_count": 2,
   "metadata": {},
   "outputs": [
    {
     "data": {
      "text/html": [
       "<div>\n",
       "<style scoped>\n",
       "    .dataframe tbody tr th:only-of-type {\n",
       "        vertical-align: middle;\n",
       "    }\n",
       "\n",
       "    .dataframe tbody tr th {\n",
       "        vertical-align: top;\n",
       "    }\n",
       "\n",
       "    .dataframe thead th {\n",
       "        text-align: right;\n",
       "    }\n",
       "</style>\n",
       "<table border=\"1\" class=\"dataframe\">\n",
       "  <thead>\n",
       "    <tr style=\"text-align: right;\">\n",
       "      <th></th>\n",
       "      <th>age_during_op</th>\n",
       "      <th>year_of_op</th>\n",
       "      <th>pos_ax_nodes</th>\n",
       "      <th>death_5yr</th>\n",
       "    </tr>\n",
       "  </thead>\n",
       "  <tbody>\n",
       "    <tr>\n",
       "      <th>0</th>\n",
       "      <td>30</td>\n",
       "      <td>64</td>\n",
       "      <td>1</td>\n",
       "      <td>1</td>\n",
       "    </tr>\n",
       "    <tr>\n",
       "      <th>1</th>\n",
       "      <td>30</td>\n",
       "      <td>62</td>\n",
       "      <td>3</td>\n",
       "      <td>1</td>\n",
       "    </tr>\n",
       "    <tr>\n",
       "      <th>2</th>\n",
       "      <td>30</td>\n",
       "      <td>65</td>\n",
       "      <td>0</td>\n",
       "      <td>1</td>\n",
       "    </tr>\n",
       "    <tr>\n",
       "      <th>3</th>\n",
       "      <td>31</td>\n",
       "      <td>59</td>\n",
       "      <td>2</td>\n",
       "      <td>1</td>\n",
       "    </tr>\n",
       "    <tr>\n",
       "      <th>4</th>\n",
       "      <td>31</td>\n",
       "      <td>65</td>\n",
       "      <td>4</td>\n",
       "      <td>1</td>\n",
       "    </tr>\n",
       "  </tbody>\n",
       "</table>\n",
       "</div>"
      ],
      "text/plain": [
       "   age_during_op  year_of_op  pos_ax_nodes  death_5yr\n",
       "0             30          64             1          1\n",
       "1             30          62             3          1\n",
       "2             30          65             0          1\n",
       "3             31          59             2          1\n",
       "4             31          65             4          1"
      ]
     },
     "execution_count": 2,
     "metadata": {},
     "output_type": "execute_result"
    }
   ],
   "source": [
    "# Load in our dataset and inspect. We need to add column names for the dataset as well\n",
    "\n",
    "colnames = ['age_during_op', 'year_of_op', 'pos_ax_nodes', 'death_5yr']\n",
    "\n",
    "df = pd.read_csv('./data/haberman.csv', names=colnames, header=None)\n",
    "df.head()"
   ]
  },
  {
   "cell_type": "code",
   "execution_count": 3,
   "metadata": {},
   "outputs": [
    {
     "name": "stdout",
     "output_type": "stream",
     "text": [
      "<class 'pandas.core.frame.DataFrame'>\n",
      "RangeIndex: 306 entries, 0 to 305\n",
      "Data columns (total 4 columns):\n",
      " #   Column         Non-Null Count  Dtype\n",
      "---  ------         --------------  -----\n",
      " 0   age_during_op  306 non-null    int64\n",
      " 1   year_of_op     306 non-null    int64\n",
      " 2   pos_ax_nodes   306 non-null    int64\n",
      " 3   death_5yr      306 non-null    int64\n",
      "dtypes: int64(4)\n",
      "memory usage: 9.7 KB\n"
     ]
    }
   ],
   "source": [
    "# Inspect column data types\n",
    "df.info()"
   ]
  },
  {
   "cell_type": "code",
   "execution_count": 4,
   "metadata": {},
   "outputs": [
    {
     "data": {
      "text/plain": [
       "1    225\n",
       "2     81\n",
       "Name: death_5yr, dtype: int64"
      ]
     },
     "execution_count": 4,
     "metadata": {},
     "output_type": "execute_result"
    }
   ],
   "source": [
    "# The dataset uses 1's and 2's for the death_5yr column. \n",
    "# We want to convert these to 0's (survived more than 5 years) and 1's (passed within 5 years of the operation)\n",
    "\n",
    "df['death_5yr'].value_counts()\n"
   ]
  },
  {
   "cell_type": "code",
   "execution_count": 5,
   "metadata": {},
   "outputs": [],
   "source": [
    "df['death_5yr'] = df['death_5yr'].map({1:0, 2:1})"
   ]
  },
  {
   "cell_type": "code",
   "execution_count": 6,
   "metadata": {},
   "outputs": [
    {
     "data": {
      "text/plain": [
       "0    225\n",
       "1     81\n",
       "Name: death_5yr, dtype: int64"
      ]
     },
     "execution_count": 6,
     "metadata": {},
     "output_type": "execute_result"
    }
   ],
   "source": [
    "df['death_5yr'].value_counts()"
   ]
  },
  {
   "cell_type": "markdown",
   "metadata": {},
   "source": [
    "Now that we have our data structured how we like, we can move forward with logistic regression."
   ]
  },
  {
   "cell_type": "code",
   "execution_count": 7,
   "metadata": {},
   "outputs": [],
   "source": [
    "# First, we'll create our test_train split to ensure no data leakage occurs in our model\n",
    "X = df.drop('death_5yr', axis=1)\n",
    "y = df['death_5yr']\n",
    "\n",
    "X_train, X_test, y_train, y_test = train_test_split(X, y, test_size=0.2, random_state=42)"
   ]
  },
  {
   "cell_type": "code",
   "execution_count": 8,
   "metadata": {},
   "outputs": [
    {
     "name": "stdout",
     "output_type": "stream",
     "text": [
      "(244, 3) (62, 3)\n"
     ]
    }
   ],
   "source": [
    "# confirm that our test size is one quarter of the training size\n",
    "print(X_train.shape, X_test.shape)"
   ]
  },
  {
   "cell_type": "code",
   "execution_count": 9,
   "metadata": {},
   "outputs": [
    {
     "data": {
      "image/png": "[encoded data removed]",
      "text/plain": [
       "<Figure size 432x288 with 2 Axes>"
      ]
     },
     "metadata": {
      "needs_background": "light"
     },
     "output_type": "display_data"
    }
   ],
   "source": [
    "# Create a dummy model that always predicts the majority class (survived more than 5 years)\n",
    "# This is our baseline model\n",
    "\n",
    "# Instantiate the model\n",
    "dummy_model = DummyClassifier(strategy='most_frequent')\n",
    "\n",
    "# Fit our model to our training data\n",
    "dummy_model.fit(X_train, y_train)\n",
    "\n",
    "# View the confusion matrix\n",
    "plot_confusion_matrix(estimator=dummy_model, X=X_train, y_true=y_train);\n",
    "\n",
    "# save the plot as an image\n",
    "plt.savefig('dummy_model.png', dpi=400)"
   ]
  },
  {
   "cell_type": "code",
   "execution_count": 10,
   "metadata": {},
   "outputs": [
    {
     "data": {
      "image/png": "[encoded data removed]",
      "text/plain": [
       "<Figure size 432x288 with 2 Axes>"
      ]
     },
     "metadata": {
      "needs_background": "light"
     },
     "output_type": "display_data"
    }
   ],
   "source": [
    "# Now that we have a baseline model, we can create our first logistic regression model\n",
    "\n",
    "# Instantiate the model\n",
    "log_model = LogisticRegression(random_state=42)\n",
    "\n",
    "# Fit the model to our training data\n",
    "log_model.fit(X_train, y_train)\n",
    "\n",
    "# View the confusion matrix for our first logistic regression model\n",
    "plot_confusion_matrix(estimator=log_model, X=X_train, y_true=y_train);\n"
   ]
  },
  {
   "cell_type": "markdown",
   "metadata": {},
   "source": [
    "This model appears to perform slightly better than the dummy model. However, we forgot one key step: normalize the input variables. Without normalizing our variables, variables that are magnitudes greater than others will be penalized more. We will use the normalize method to scale our X data. "
   ]
  },
  {
   "cell_type": "code",
   "execution_count": 11,
   "metadata": {
    "scrolled": true
   },
   "outputs": [
    {
     "data": {
      "image/png": "[encoded data removed]",
      "text/plain": [
       "<Figure size 432x288 with 2 Axes>"
      ]
     },
     "metadata": {
      "needs_background": "light"
     },
     "output_type": "display_data"
    }
   ],
   "source": [
    "X_train_norm = normalize(X_train)\n",
    "X_test_norm = normalize(X_test)\n",
    "\n",
    "# Fit the model to our normalized training data\n",
    "log_model.fit(X_train_norm, y_train)\n",
    "\n",
    "# View the confusion matrix \n",
    "plot_confusion_matrix(estimator=log_model, X=X_train_norm, y_true=y_train);\n",
    "\n",
    "plt.savefig('log_norm.png', dpi=400)"
   ]
  },
  {
   "cell_type": "code",
   "execution_count": 12,
   "metadata": {},
   "outputs": [
    {
     "data": {
      "text/plain": [
       "0.7459016393442623"
      ]
     },
     "execution_count": 12,
     "metadata": {},
     "output_type": "execute_result"
    }
   ],
   "source": [
    "log_model.score(X_train_norm, y_train)"
   ]
  },
  {
   "cell_type": "code",
   "execution_count": 13,
   "metadata": {},
   "outputs": [
    {
     "data": {
      "text/plain": [
       "0.015873015873015872"
      ]
     },
     "execution_count": 13,
     "metadata": {},
     "output_type": "execute_result"
    }
   ],
   "source": [
    "recall_score(y_train, log_model.predict(X_train_norm))"
   ]
  },
  {
   "cell_type": "code",
   "execution_count": 14,
   "metadata": {},
   "outputs": [
    {
     "data": {
      "image/png": "[encoded data removed]",
      "text/plain": [
       "<Figure size 432x288 with 2 Axes>"
      ]
     },
     "metadata": {
      "needs_background": "light"
     },
     "output_type": "display_data"
    }
   ],
   "source": [
    "# Instantiate the model\n",
    "log_model = LogisticRegression(C=10000, solver='liblinear', random_state=42)\n",
    "\n",
    "# Fit the model to our training data\n",
    "log_model.fit(X_train_norm, y_train)\n",
    "\n",
    "# View the confusion matrix for our first logistic regression model\n",
    "plot_confusion_matrix(estimator=log_model, X=X_train_norm, y_true=y_train);\n",
    "\n",
    "plt.savefig('log_norm_hyp_param.png', dpi=400)"
   ]
  },
  {
   "cell_type": "code",
   "execution_count": 15,
   "metadata": {},
   "outputs": [
    {
     "data": {
      "text/plain": [
       "0.7868852459016393"
      ]
     },
     "execution_count": 15,
     "metadata": {},
     "output_type": "execute_result"
    }
   ],
   "source": [
    "log_model.score(X_train_norm, y_train)"
   ]
  },
  {
   "cell_type": "code",
   "execution_count": 16,
   "metadata": {},
   "outputs": [
    {
     "data": {
      "text/plain": [
       "0.2857142857142857"
      ]
     },
     "execution_count": 16,
     "metadata": {},
     "output_type": "execute_result"
    }
   ],
   "source": [
    "recall_score(y_train, log_model.predict(X_train_norm))"
   ]
  },
  {
   "cell_type": "code",
   "execution_count": 17,
   "metadata": {},
   "outputs": [],
   "source": [
    "# Given that we only have 3 columns to predict our target, we will use the Polynomial Features class from \n",
    "# sklearn to increase the number of input features\n",
    "\n",
    "# Instantiate transformer\n",
    "pf = PolynomialFeatures(degree=3)\n",
    "\n",
    "# Fit the transformer to our training X data. Transform both training and testing sets\n",
    "pf.fit(X_train)\n",
    "X_train_poly = pf.transform(X_train)\n",
    "X_test_poly = pf.transform(X_test)"
   ]
  },
  {
   "cell_type": "code",
   "execution_count": 18,
   "metadata": {},
   "outputs": [
    {
     "data": {
      "image/png": "[encoded data removed]",
      "text/plain": [
       "<Figure size 432x288 with 2 Axes>"
      ]
     },
     "metadata": {
      "needs_background": "light"
     },
     "output_type": "display_data"
    }
   ],
   "source": [
    "# instantiate the model\n",
    "log_poly_model = LogisticRegression(C=10000, solver='liblinear', random_state=42, max_iter=10000)\n",
    "\n",
    "# fit the model\n",
    "log_poly_model.fit(X_train_poly, y_train)\n",
    "\n",
    "# view confusion matrix\n",
    "plot_confusion_matrix(log_poly_model, X_train_poly, y_train);\n",
    "\n",
    "plt.savefig('log_reg_poly.png', dpi=400)"
   ]
  },
  {
   "cell_type": "code",
   "execution_count": 19,
   "metadata": {},
   "outputs": [
    {
     "data": {
      "text/plain": [
       "0.7950819672131147"
      ]
     },
     "execution_count": 19,
     "metadata": {},
     "output_type": "execute_result"
    }
   ],
   "source": [
    "log_poly_model.score(X_train_poly, y_train)"
   ]
  },
  {
   "cell_type": "code",
   "execution_count": 20,
   "metadata": {},
   "outputs": [
    {
     "data": {
      "text/plain": [
       "0.3968253968253968"
      ]
     },
     "execution_count": 20,
     "metadata": {},
     "output_type": "execute_result"
    }
   ],
   "source": [
    "recall_score(y_train, log_poly_model.predict(X_train_poly))"
   ]
  },
  {
   "cell_type": "code",
   "execution_count": 21,
   "metadata": {},
   "outputs": [
    {
     "data": {
      "text/plain": [
       "'              precision    recall  f1-score   support\\n\\n           0       0.82      0.93      0.87       181\\n           1       0.68      0.40      0.50        63\\n\\n    accuracy                           0.80       244\\n   macro avg       0.75      0.67      0.69       244\\nweighted avg       0.78      0.80      0.78       244\\n'"
      ]
     },
     "execution_count": 21,
     "metadata": {},
     "output_type": "execute_result"
    }
   ],
   "source": [
    "classification_report(y_train, log_poly_model.predict(X_train_poly))"
   ]
  },
  {
   "cell_type": "code",
   "execution_count": 21,
   "metadata": {},
   "outputs": [
    {
     "data": {
      "image/png": "[encoded data removed]",
      "text/plain": [
       "<Figure size 432x288 with 2 Axes>"
      ]
     },
     "metadata": {
      "needs_background": "light"
     },
     "output_type": "display_data"
    }
   ],
   "source": [
    "# Given that this is our best model so far, we can run the model on our testing data set\n",
    "plot_confusion_matrix(log_poly_model, X_test_poly, y_test);\n",
    "\n",
    "plt.savefig('log_reg_poly_test.png', dpi=400)"
   ]
  },
  {
   "cell_type": "code",
   "execution_count": 22,
   "metadata": {},
   "outputs": [
    {
     "data": {
      "text/plain": [
       "0.6612903225806451"
      ]
     },
     "execution_count": 22,
     "metadata": {},
     "output_type": "execute_result"
    }
   ],
   "source": [
    "log_poly_model.score(X_test_poly, y_test)"
   ]
  },
  {
   "cell_type": "code",
   "execution_count": 23,
   "metadata": {},
   "outputs": [
    {
     "data": {
      "text/plain": [
       "0.16666666666666666"
      ]
     },
     "execution_count": 23,
     "metadata": {},
     "output_type": "execute_result"
    }
   ],
   "source": [
    "recall_score(y_test, log_poly_model.predict(X_test_poly))"
   ]
  },
  {
   "cell_type": "code",
   "execution_count": null,
   "metadata": {},
   "outputs": [],
   "source": []
  }
 ],
 "metadata": {
  "kernelspec": {
   "display_name": "Python 3",
   "language": "python",
   "name": "python3"
  },
  "language_info": {
   "codemirror_mode": {
    "name": "ipython",
    "version": 3
   },
   "file_extension": ".py",
   "mimetype": "text/x-python",
   "name": "python",
   "nbconvert_exporter": "python",
   "pygments_lexer": "ipython3",
   "version": "3.8.5"
  }
 },
 "nbformat": 4,
 "nbformat_minor": 2
}
